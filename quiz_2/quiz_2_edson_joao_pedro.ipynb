{
 "cells": [
  {
   "cell_type": "markdown",
   "metadata": {},
   "source": [
    "# Quiz 2 #\n",
    "\n",
    "**Nome:**  Edson Roteia e João Pedro Moreira Ferreira"
   ]
  },
  {
   "cell_type": "markdown",
   "metadata": {},
   "source": [
    "### First estimation - Manual Calculating from single image###\n",
    "\n",
    "- Configuration for naive estimation\n",
    "\n",
    "![](./imgs/chess.jpg.png)\n",
    "\n",
    "- Size in pixel of the book:\n",
    "   - width: 870px\n",
    "   - heigth: 696px\n",
    "   \n",
    "\n",
    "From the equations:\n",
    "$f_x = \\frac{d_x}{d_X} d_z, f_y = \\frac{d_y}{d_Y} d_z $ (1)\n",
    "\n",
    "We have:\n",
    "$f_x = \\frac{870}{294} 1200, f_y = \\frac{696}{234}1200$\n",
    "\n",
    "So:\n",
    "$f_x = 3551.02, f_y = 3569.23$"
   ]
  },
  {
   "cell_type": "markdown",
   "metadata": {},
   "source": [
    "### Second estimation - Using MATLAB App (Camera Calibrator)###\n",
    "\n",
    "- Input images to estimate camera parameters\n",
    "\n",
    "![](./imgs/input_matlab.png)\n",
    "\n",
    "\n",
    "- Camera Calibrator App for MATLAB\n",
    "\n",
    "![](./imgs/app.png)\n",
    "\n",
    "\n",
    "- Camera parameters estimate by the MATLAB App\n",
    "\n",
    "![](./imgs/matlab_5.png)\n",
    "\n",
    "The Camera Calibrator MATLAB App Estimate the follow parameters:\n",
    "   - Intrisic Parameters:\n",
    "    \n",
    "   - Extrinsic Parameters:"
   ]
  },
  {
   "cell_type": "markdown",
   "metadata": {},
   "source": [
    "### Last Estimation - Using SVD "
   ]
  },
  {
   "cell_type": "code",
   "execution_count": null,
   "metadata": {},
   "outputs": [
    {
     "name": "stderr",
     "output_type": "stream",
     "text": [
      "/home/jpeumesmo/.virtualenvs/cv/lib/python3.6/site-packages/ipykernel_launcher.py:42: RuntimeWarning: overflow encountered in multiply\n"
     ]
    }
   ],
   "source": [
    "import cv2\n",
    "import numpy as np\n",
    "\n",
    "\n",
    "##read images\n",
    "images_name = ['./imgs/IMG_20190404_153953657.jpg','./imgs/IMG_20190404_153954488.jpg','./imgs/IMG_20190404_154000947.jpg',\n",
    "              './imgs/IMG_20190404_154002764.jpg','./imgs/IMG_20190404_154004200.jpg']\n",
    "images = []\n",
    "for img_name in images_name:\n",
    "    img = cv2.imread(img_name)\n",
    "    images.append(img)\n",
    "\n",
    "##find chessboard\n",
    "criteria = (cv2.TERM_CRITERIA_EPS + cv2.TERM_CRITERIA_MAX_ITER, 28, 0.001)\n",
    "objp = np.zeros((5*7,3), np.float32)\n",
    "objp[:,:2] = np.mgrid[0:7,0:5].T.reshape(-1,2)\n",
    "\n",
    "objpoints = [] # 3d point in real world space\n",
    "imgpoints = [] # 2d points in image plane.\n",
    "\n",
    "for img in images:\n",
    "    gray = cv2.cvtColor(img, cv2.COLOR_BGR2GRAY)\n",
    "    # Find the chess board corners\n",
    "    ret, corners = cv2.findChessboardCorners(gray, (7,5), None)\n",
    "    # If found, add object points, image points (after refining them)\n",
    "    if ret == True:\n",
    "        objpoints.append(objp)\n",
    "        corners2 = cv2.cornerSubPix(gray,corners, (11,11), (-1,-1), criteria)\n",
    "        imgpoints.append(corners)\n",
    "        # Draw and display the corners\n",
    "#         cv2.drawChessboardCorners(img, (7,5), corners2, ret)\n",
    "#         cv2.imshow('img', cv2.resize(img,(800,800)))\n",
    "#         cv2.waitKey()\n",
    "# cv2.destroyAllWindows()\n",
    "\n",
    "#####POINTS IN THE WORLD##########\n",
    "worldpoints = []\n",
    "#points in 1,2,3,4,5,6,7\n",
    "worldpoints = objpoints\n",
    "#points i1n 0.0028,0.0056,0.0084,0.0112,0.0140,0.0168\n",
    "for points in objpoints:\n",
    "    worldpoints.append(points * 28)"
   ]
  },
  {
   "cell_type": "code",
   "execution_count": null,
   "metadata": {},
   "outputs": [],
   "source": [
    "# Create A matrix\n",
    "A = []\n",
    "for worldpoint_vector,imagepoint_vector in zip(worldpoints,objpoints):\n",
    "    for worldpoint, imagepoint in zip(worldpoint_vector, imagepoint_vector):\n",
    "        A_line = []\n",
    "        A_line.append(imagepoint[0] * worldpoint[0])\n",
    "        A_line.append(imagepoint[0] * worldpoint[1])\n",
    "        A_line.append(imagepoint[0] * worldpoint[2])\n",
    "        A_line.append(imagepoint[0])\n",
    "        A_line.append(-imagepoint[1] * worldpoint[0])\n",
    "        A_line.append(-imagepoint[1] * worldpoint[1])\n",
    "        A_line.append(-imagepoint[1] * worldpoint[2])\n",
    "        A_line.append(-imagepoint[1])\n",
    "        A.append(A_line)\n",
    "        \n",
    "A = np.asarray(A)\n",
    "U, D, V = np.linalg.svd(A, full_matrices=True)\n"
   ]
  },
  {
   "cell_type": "code",
   "execution_count": null,
   "metadata": {},
   "outputs": [],
   "source": [
    "# idx_min = np.argmin(D[np.nonzero(D)])\n",
    "idx_min = np.argmin(D)\n",
    "V_selected = V[:,idx_min]\n",
    "gamma = (V_selected[0] ** -2 + V_selected[1] ** -2 + V_selected[2] ** -2 ) ** 1/2\n",
    "alfa = ((V_selected[4] ** -2 + V_selected[5] ** -2 + V_selected[6] ** -2 ) ** 1/2)/gamma\n",
    "# print (idx_min,D,D[np.nonzero(D)],D[idx_min]<D[idx_min-1])\n",
    "# print ('-------')\n",
    "# print (V_selected)\n",
    "# print (\"--------\")\n",
    "# print (V[0][idx_min],V[1][idx_min],V[2][idx_min],V[3][idx_min])\n",
    "# print (V)\n",
    "r = np.ones(shape=(3,3))\n",
    "t = np.ones(shape=(3,1))\n",
    "r[1][0] = V_selected[0]/gamma\n",
    "r[1][1] = V_selected[1]/gamma\n",
    "r[1][2] = V_selected[2]/gamma\n",
    "t[1] = V_selected[3]/gamma\n",
    "r[0][0] = (V_selected[4]/gamma)/alfa\n",
    "r[0][1] = (V_selected[5]/gamma)/alfa\n",
    "r[0][2] = (V_selected[6]/gamma)/alfa\n",
    "t[0] = (V_selected[7]/gamma)/alfa\n",
    "# print (r,t)\n",
    "\n",
    "#inner = 0 | dot = r[:][3]\n",
    "r_3 = np.cross(r[0,:],r[1,:])\n",
    "print (r)\n",
    "print (r[0,:])\n",
    "print (np.inner(r_3,r[0,:]),np.inner(r_3,r[1,:]))"
   ]
  },
  {
   "cell_type": "code",
   "execution_count": 4,
   "metadata": {},
   "outputs": [
    {
     "name": "stdout",
     "output_type": "stream",
     "text": [
      "mtx: [[3.56361831e+03 0.00000000e+00 2.31043353e+03]\n",
      " [0.00000000e+00 3.56712153e+03 1.30610033e+03]\n",
      " [0.00000000e+00 0.00000000e+00 1.00000000e+00]] \n",
      "dist: [[ 3.62710622e-01 -4.05401036e+00  3.50476788e-03 -1.97306596e-03\n",
      "   1.74054993e+01]] \n",
      "rvecs [array([[-0.56801084],\n",
      "       [-0.03302871],\n",
      "       [-0.01076533]]), array([[-0.38175847],\n",
      "       [-0.03292343],\n",
      "       [-0.00594362]]), array([[ 0.17415325],\n",
      "       [-0.04947201],\n",
      "       [-0.00576611]]), array([[ 0.18109882],\n",
      "       [-0.00999373],\n",
      "       [-0.02069352]]), array([[ 0.17898443],\n",
      "       [-0.01176048],\n",
      "       [-0.04216456]])] \n",
      "tvecs: [array([[-2.03098957],\n",
      "       [-3.5243423 ],\n",
      "       [25.29084638]]), array([[-2.14813459],\n",
      "       [-3.78547361],\n",
      "       [24.71926229]]), array([[-2.82271747],\n",
      "       [-7.26621807],\n",
      "       [23.80149411]]), array([[-2.67716708],\n",
      "       [-4.1288358 ],\n",
      "       [24.34515622]]), array([[-2.65868384],\n",
      "       [ 1.14534683],\n",
      "       [24.97406693]])]\n"
     ]
    }
   ],
   "source": [
    "ret, mtx, dist, rvecs, tvecs = cv2.calibrateCamera(objpoints, imgpoints, gray.shape[::-1], None, None)\n",
    "print('mtx:',mtx,'\\ndist:',\n",
    "      dist,'\\nrvecs',rvecs,'\\ntvecs:',tvecs)"
   ]
  },
  {
   "cell_type": "markdown",
   "metadata": {},
   "source": []
  }
 ],
 "metadata": {
  "kernelspec": {
   "display_name": "Python 3",
   "language": "python",
   "name": "python3"
  },
  "language_info": {
   "codemirror_mode": {
    "name": "ipython",
    "version": 3
   },
   "file_extension": ".py",
   "mimetype": "text/x-python",
   "name": "python",
   "nbconvert_exporter": "python",
   "pygments_lexer": "ipython3",
   "version": "3.6.7"
  }
 },
 "nbformat": 4,
 "nbformat_minor": 2
}
