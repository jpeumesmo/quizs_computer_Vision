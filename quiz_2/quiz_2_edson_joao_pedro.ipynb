{
 "cells": [
  {
   "cell_type": "markdown",
   "metadata": {},
   "source": [
    "# Quiz 2 #\n",
    "\n",
    "**Nome:**  Edson Roteia e João Pedro Moreira Ferreira"
   ]
  },
  {
   "cell_type": "markdown",
   "metadata": {},
   "source": [
    "### First estimation - Manual Calculating from single image###\n",
    "\n",
    "- Configuration for naive estimation\n",
    "\n",
    "![](./imgs/chess.jpg.png)\n",
    "\n",
    "- Size in pixel of the book:\n",
    "   - width: 870px\n",
    "   - heigth: 696px\n",
    "   \n",
    "\n",
    "From the equations:\n",
    "$f_x = \\frac{d_x}{d_X} d_z, f_y = \\frac{d_y}{d_Y} d_z $ (1)\n",
    "\n",
    "We have:\n",
    "$f_x = \\frac{870}{294} 1200, f_y = \\frac{696}{234}1200$\n",
    "\n",
    "So:\n",
    "$f_x = 3551.02, f_y = 3569.23$"
   ]
  },
  {
   "cell_type": "markdown",
   "metadata": {},
   "source": [
    "### Second estimation - Using MATLAB App (Camera Calibrator)###\n",
    "\n",
    "- Input images to estimate camera parameters\n",
    "\n",
    "![](./imgs/input_matlab.png)\n",
    "\n",
    "\n",
    "- Camera Calibrator App for MATLAB\n",
    "\n",
    "![](./imgs/app.png)\n",
    "\n",
    "\n",
    "- Camera parameters estimate by the MATLAB App\n",
    "\n",
    "![](./imgs/matlab_5.png)\n",
    "\n",
    "The Camera Calibrator MATLAB App Estimate the follow parameters:\n",
    "   - Intrisic Parameters:\n",
    "    \n",
    "   - Extrinsic Parameters:"
   ]
  },
  {
   "cell_type": "markdown",
   "metadata": {},
   "source": [
    "### Last Estimation - Using SVD "
   ]
  },
  {
   "cell_type": "markdown",
   "metadata": {},
   "source": [
    "#### 1. Measure the 3-D coordinates of each vector of the n squares on the calibration pattern in the world reference frame."
   ]
  },
  {
   "cell_type": "code",
   "execution_count": 86,
   "metadata": {},
   "outputs": [],
   "source": [
    "import cv2\n",
    "import numpy as np\n",
    "\n",
    "##read images\n",
    "images_name = ['./imgs/IMG_20190404_153953657.jpg','./imgs/IMG_20190404_153954488.jpg','./imgs/IMG_20190404_154000947.jpg',\n",
    "              './imgs/IMG_20190404_154002764.jpg','./imgs/IMG_20190404_154004200.jpg']\n",
    "images = []\n",
    "for img_name in images_name:\n",
    "    img = cv2.imread(img_name)\n",
    "    images.append(img)\n",
    "\n",
    "##find chessboard\n",
    "criteria = (cv2.TERM_CRITERIA_EPS + cv2.TERM_CRITERIA_MAX_ITER, 28, 0.001)\n",
    "objp = np.zeros((5*7,3), np.float32)\n",
    "objp[:,:2] = np.mgrid[0:7,0:5].T.reshape(-1,2)\n",
    "\n",
    "objpoints = [] # 3d point in real world space\n",
    "imgpoints = [] # 2d points in image plane.\n",
    "\n",
    "\n",
    "\n",
    "\n",
    "\n",
    "# 8. Set up A and b of system (6.14), and use (6.15) to estimate T_{z} and f_{x}\n",
    "#      - The output is formed by alpha, f_{x}, and the extrinsic parameters of the viewing camera.\n",
    "for img in images:\n",
    "    gray = cv2.cvtColor(img, cv2.COLOR_BGR2GRAY)\n",
    "    # Find the chess board corners\n",
    "    ret, corners = cv2.findChessboardCorners(gray, (7,5), None)\n",
    "    # If found, add object points, image points (after refining them)\n",
    "    if ret == True:\n",
    "        objpoints.append(objp)\n",
    "        corners2 = cv2.cornerSubPix(gray,corners, (11,11), (-1,-1), criteria)\n",
    "        imgpoints.append(corners)\n",
    "        # Draw and display the corners\n",
    "#         cv2.drawChessboardCorners(img, (7,5), corners2, ret)\n",
    "#         cv2.imshow('img', cv2.resize(img,(800,800)))\n",
    "#         cv2.waitKey()"
   ]
  },
  {
   "cell_type": "markdown",
   "metadata": {},
   "source": [
    "#### 2. Find the coordinates in the image reference frame of each of the N vertices."
   ]
  },
  {
   "cell_type": "code",
   "execution_count": 87,
   "metadata": {},
   "outputs": [],
   "source": [
    "#####POINTS IN THE WORLD##########\n",
    "worldpoints = []\n",
    "#points in 1,2,3,4,5,6,7\n",
    "# worldpoints = objpoints\n",
    "#points i1n 0.028,0.056,0.084,0.112,0.140,0.168\n",
    "for points in objpoints:\n",
    "    worldpoints.append(points * 28)"
   ]
  },
  {
   "cell_type": "markdown",
   "metadata": {},
   "source": [
    "#### 3. Having the N correspondences between image and world points, compute the SVD of A (6.8). The solution is column of V corresponding to the smallest singular value of A.\n",
    "![](./imgs/trucco6.8.png)"
   ]
  },
  {
   "cell_type": "code",
   "execution_count": 88,
   "metadata": {},
   "outputs": [],
   "source": [
    "# Create A matrix\n",
    "A = []\n",
    "for worldpoint_vector,imagepoint_vector in zip(worldpoints,imgpoints):\n",
    "    for worldpoint, imagepoint in zip(worldpoint_vector, imagepoint_vector):\n",
    "#         print(worldpoint, imagepoint)\n",
    "        A_line = []\n",
    "        A_line.append(imagepoint[0][0] * worldpoint[0])\n",
    "        A_line.append(imagepoint[0][0] * worldpoint[1])\n",
    "        A_line.append(imagepoint[0][0] * worldpoint[2])\n",
    "        A_line.append(imagepoint[0][0])\n",
    "        A_line.append(-imagepoint[0][1] * worldpoint[0])\n",
    "        A_line.append(-imagepoint[0][1] * worldpoint[1])\n",
    "        A_line.append(-imagepoint[0][1] * worldpoint[2])\n",
    "        A_line.append(-imagepoint[0][1])\n",
    "        A.append(A_line)\n",
    "        \n",
    "A = np.asarray(A)\n",
    "U, D, V = np.linalg.svd(np.dot(np.transpose(A), A), full_matrices=True)\n",
    "idx_min = np.argmin(D)\n",
    "V_selected = V[idx_min]"
   ]
  },
  {
   "cell_type": "markdown",
   "metadata": {},
   "source": [
    "#### 4. Determine $|\\gamma|$ and $\\alpha$ from (6.10) and (6.11)\n",
    "![](./imgs/trucco6.10.png)\n",
    "![](./imgs/trucco6.11.png)"
   ]
  },
  {
   "cell_type": "code",
   "execution_count": 89,
   "metadata": {},
   "outputs": [
    {
     "name": "stdout",
     "output_type": "stream",
     "text": [
      "2.220446049250313e-16 4503599627370496.0\n",
      "7 [1.8421947e+13 2.4578577e+12 2.7763533e+11 6.5202831e+10 1.8291214e+08\n",
      " 4.7917330e+06 7.2991029e-06 0.0000000e+00] [1.8421947e+13 2.4578577e+12 2.7763533e+11 6.5202831e+10 1.8291214e+08\n",
      " 4.7917330e+06 7.2991029e-06] True\n",
      "-------\n",
      "[ 0.0000000e+00 -3.2367213e-32 -2.2204460e-16  2.1155799e-30\n",
      " -1.2400870e-32 -4.6969601e-32  1.0000000e+00  4.8965264e-30]\n",
      "--------\n",
      "0.002952252 0.00293668 -0.0053269747 0.008837353\n",
      "[[-8.0981839e-01 -4.3207550e-01  0.0000000e+00 -6.7540999e-03\n",
      "   3.3716726e-01  2.0921016e-01  0.0000000e+00  2.9522520e-03]\n",
      " [ 4.9490729e-01 -7.3478556e-01  0.0000000e+00 -1.7526917e-03\n",
      "  -3.9745711e-02  4.6213156e-01  0.0000000e+00  2.9366801e-03]\n",
      " [-2.6442564e-01 -3.1968462e-01 -1.1102230e-16 -5.6484286e-03\n",
      "  -8.5931021e-01 -2.9900926e-01  0.0000000e+00 -5.3269747e-03]\n",
      " [-1.7110625e-01  4.1375825e-01 -1.6653345e-16 -1.0263478e-02\n",
      "  -3.8246176e-01  8.0812520e-01  0.0000000e+00  8.8373534e-03]\n",
      " [-7.6032029e-03 -8.3580479e-04 -3.2265857e-16  9.1450882e-01\n",
      "  -5.1714419e-03  1.2406131e-02  0.0000000e+00 -4.0427026e-01]\n",
      " [ 2.2226875e-03  2.4754151e-03  1.5567408e-14 -4.0433609e-01\n",
      "   4.5561385e-03  6.2256958e-03  0.0000000e+00 -9.1457188e-01]\n",
      " [-8.6662515e-17  2.1908899e-17  1.0000000e+00  6.1210705e-15\n",
      "  -1.5942296e-16 -2.9275814e-17  0.0000000e+00  1.3582033e-14]\n",
      " [ 0.0000000e+00 -3.2367213e-32 -2.2204460e-16  2.1155799e-30\n",
      "  -1.2400870e-32 -4.6969601e-32  1.0000000e+00  4.8965264e-30]]\n"
     ]
    }
   ],
   "source": [
    "gamma = (V_selected[0] ** 2 + V_selected[1] ** 2 + V_selected[2] ** 2 ) ** (1/2)\n",
    "alfa = ((V_selected[4] ** 2 + V_selected[5] ** 2 + V_selected[6] ** 2 ) ** (1/2))/gamma\n",
    "print(gamma, alfa)\n",
    "print (idx_min,D,D[np.nonzero(D)],D[idx_min]<D[idx_min-1])\n",
    "print ('-------')\n",
    "print (V_selected)\n",
    "print (\"--------\")\n",
    "print (V[0][idx_min],V[1][idx_min],V[2][idx_min],V[3][idx_min])\n",
    "print (V)"
   ]
  },
  {
   "cell_type": "markdown",
   "metadata": {},
   "source": [
    "#### 5. Recover the first two rows of R and the two first components of T from (6.9)\n",
    "![](./imgs/trucco6.9.png)"
   ]
  },
  {
   "cell_type": "code",
   "execution_count": 90,
   "metadata": {},
   "outputs": [],
   "source": [
    "r = np.ones(shape=(3,3))\n",
    "t = np.ones(shape=(3,1))\n",
    "r[1][0] = V_selected[0]/gamma\n",
    "r[1][1] = V_selected[1]/gamma\n",
    "r[1][2] = V_selected[2]/gamma\n",
    "t[1] = V_selected[3]/gamma\n",
    "r[0][0] = (V_selected[4]/gamma)/alfa\n",
    "r[0][1] = (V_selected[5]/gamma)/alfa\n",
    "r[0][2] = (V_selected[6]/gamma)/alfa\n",
    "t[0] = (V_selected[7]/gamma)/alfa\n",
    "# print (r,t)"
   ]
  },
  {
   "cell_type": "markdown",
   "metadata": {},
   "source": [
    "#### 6. Compute the third row of R as the vector product of the first two rows estimated in the previous step, and enforce the orthogonality constraint on the estimate of R through SVD decomposition."
   ]
  },
  {
   "cell_type": "code",
   "execution_count": 91,
   "metadata": {},
   "outputs": [
    {
     "name": "stdout",
     "output_type": "stream",
     "text": [
      "[[-1.24008703e-32 -4.69696010e-32  1.00000000e+00]\n",
      " [ 0.00000000e+00 -1.45768970e-16 -1.00000000e+00]\n",
      " [ 1.45768970e-16 -1.24008703e-32  1.80766210e-48]]\n",
      "[-1.24008703e-32 -4.69696010e-32  1.00000000e+00]\n",
      "******************\n",
      "0.0 0.0\n",
      "******************\n"
     ]
    }
   ],
   "source": [
    "#inner = 0 | dot = r[:][3]\n",
    "r[2,:] = np.cross(r[0,:],r[1,:])\n",
    "\n",
    "print (r)\n",
    "print (r[0,:])\n",
    "print(\"******************\")\n",
    "print (np.inner(r[2,:],r[0,:]),np.inner(r[2,:],r[1,:])) \n",
    "print(\"******************\")"
   ]
  },
  {
   "cell_type": "markdown",
   "metadata": {},
   "source": [
    "#### 7. Pick a point for which $(x - \\sigma_{x})$ is noticeably different from 0. If inequality (6.12) is satisfied, reverse the sign of the first two rows of R and the first two components of T\n",
    "![](./imgs/trucco6.12.png)"
   ]
  },
  {
   "cell_type": "code",
   "execution_count": 92,
   "metadata": {},
   "outputs": [
    {
     "name": "stdout",
     "output_type": "stream",
     "text": [
      "[[-1.24008703e-32 -4.69696010e-32  1.00000000e+00]\n",
      " [ 0.00000000e+00 -1.45768970e-16 -1.00000000e+00]\n",
      " [ 1.45768970e-16 -1.24008703e-32  1.80766210e-48]]\n",
      "[[ 1.24008703e-32  4.69696010e-32 -1.00000000e+00]\n",
      " [-0.00000000e+00  1.45768970e-16  1.00000000e+00]\n",
      " [ 1.45768970e-16 -1.24008703e-32  1.80766210e-48]]\n",
      "[9.84574922e-27]\n"
     ]
    },
    {
     "data": {
      "text/plain": [
       "array([-1.59998674e-14, -3.83553920e+18])"
      ]
     },
     "execution_count": 92,
     "metadata": {},
     "output_type": "execute_result"
    }
   ],
   "source": [
    "x_aux = imgpoints[0][1][0][0] * (r[0][0] * worldpoints[0][1][0] + r[0][1] * worldpoints[0][1][1] +\n",
    "                                    r[0][2] * worldpoints[0][1][2] + t[0])\n",
    "\n",
    "print(r)\n",
    "r[0,:] = -r[0,:]\n",
    "r[1,:] = -r[1,:]\n",
    "t[0:2] = -t[0:2]\n",
    "print(r)\n",
    "\n",
    "print(x_aux)\n",
    "\n",
    "A_2 = []\n",
    "for worldpoint_vector,imagepoint_vector in zip(worldpoints,imgpoints):\n",
    "    for worldpoint, imagepoint in zip(worldpoint_vector, imagepoint_vector):\n",
    "        A_line = []\n",
    "        A_line.append(imagepoint[0][0])\n",
    "        A_line.append((r[0][0] * worldpoint[0] + r[0][1] * worldpoint[1] + r[0][2] * worldpoint[2] + t[0])[0])\n",
    "        A_2.append(A_line)\n",
    "\n",
    "b = []\n",
    "for worldpoint_vector,imagepoint_vector in zip(worldpoints,imgpoints):\n",
    "    for worldpoint, imagepoint in zip(worldpoint_vector, imagepoint_vector):\n",
    "        b.append(-imagepoint[0][0] * (r[2][0] * worldpoint[0] + r[2][1] * worldpoint[1] + r[2][2] * worldpoint[2]))\n",
    "\n",
    "np.dot(np.dot(np.linalg.inv(np.dot(np.transpose(A_2), A_2)), np.transpose(A_2)), b)"
   ]
  },
  {
   "cell_type": "markdown",
   "metadata": {},
   "source": [
    "### Fourth Estimation - OpenCV Calibration Function"
   ]
  },
  {
   "cell_type": "code",
   "execution_count": 93,
   "metadata": {},
   "outputs": [
    {
     "name": "stdout",
     "output_type": "stream",
     "text": [
      "mtx: [[3.56361851e+03 0.00000000e+00 2.31043347e+03]\n",
      " [0.00000000e+00 3.56712174e+03 1.30610024e+03]\n",
      " [0.00000000e+00 0.00000000e+00 1.00000000e+00]] \n",
      "dist: [[ 3.62710629e-01 -4.05401065e+00  3.50476240e-03 -1.97307215e-03\n",
      "   1.74055005e+01]] \n",
      "rvecs [array([[-0.56801087],\n",
      "       [-0.0330287 ],\n",
      "       [-0.01076532]]), array([[-0.3817585 ],\n",
      "       [-0.03292341],\n",
      "       [-0.00594361]]), array([[ 0.17415325],\n",
      "       [-0.04947198],\n",
      "       [-0.00576611]]), array([[ 0.18109886],\n",
      "       [-0.00999371],\n",
      "       [-0.02069352]]), array([[ 0.17898442],\n",
      "       [-0.01176046],\n",
      "       [-0.04216456]])] \n",
      "tvecs: [array([[-2.03098909],\n",
      "       [-3.52434165],\n",
      "       [25.29084783]]), array([[-2.14813411],\n",
      "       [-3.78547298],\n",
      "       [24.71926373]]), array([[-2.82271701],\n",
      "       [-7.26621745],\n",
      "       [23.80149558]]), array([[-2.67716662],\n",
      "       [-4.12883513],\n",
      "       [24.34515758]]), array([[-2.65868337],\n",
      "       [ 1.14534746],\n",
      "       [24.97406838]])]\n"
     ]
    }
   ],
   "source": [
    "ret, mtx, dist, rvecs, tvecs = cv2.calibrateCamera(objpoints, imgpoints, gray.shape[::-1], None, None)\n",
    "print('mtx:',mtx,'\\ndist:',\n",
    "      dist,'\\nrvecs',rvecs,'\\ntvecs:',tvecs)"
   ]
  }
 ],
 "metadata": {
  "kernelspec": {
   "display_name": "Python 3",
   "language": "python",
   "name": "python3"
  },
  "language_info": {
   "codemirror_mode": {
    "name": "ipython",
    "version": 3
   },
   "file_extension": ".py",
   "mimetype": "text/x-python",
   "name": "python",
   "nbconvert_exporter": "python",
   "pygments_lexer": "ipython3",
   "version": "3.6.5"
  }
 },
 "nbformat": 4,
 "nbformat_minor": 2
}
